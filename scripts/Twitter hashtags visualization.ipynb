{
 "cells": [
  {
   "cell_type": "markdown",
   "metadata": {
    "toc": "true"
   },
   "source": [
    "# Table of Contents\n",
    " <p><div class=\"lev1 toc-item\"><a href=\"#Twitter-hashtags-visualization\" data-toc-modified-id=\"Twitter-hashtags-visualization-1\"><span class=\"toc-item-num\">1&nbsp;&nbsp;</span>Twitter hashtags visualization</a></div><div class=\"lev2 toc-item\"><a href=\"#Intro\" data-toc-modified-id=\"Intro-11\"><span class=\"toc-item-num\">1.1&nbsp;&nbsp;</span>Intro</a></div><div class=\"lev3 toc-item\"><a href=\"#Creating-a-Twitter-App\" data-toc-modified-id=\"Creating-a-Twitter-App-111\"><span class=\"toc-item-num\">1.1.1&nbsp;&nbsp;</span>Creating a Twitter App</a></div><div class=\"lev2 toc-item\"><a href=\"#The-TweetsExtractor-object\" data-toc-modified-id=\"The-TweetsExtractor-object-12\"><span class=\"toc-item-num\">1.2&nbsp;&nbsp;</span>The <code>TweetsExtractor</code> object</a></div><div class=\"lev2 toc-item\"><a href=\"#The-TweetsAnalyzer-object\" data-toc-modified-id=\"The-TweetsAnalyzer-object-13\"><span class=\"toc-item-num\">1.3&nbsp;&nbsp;</span>The <code>TweetsAnalyzer</code> object</a></div>"
   ]
  },
  {
   "cell_type": "markdown",
   "metadata": {},
   "source": [
    "# Twitter hashtags visualization\n",
    "\n",
    "## Intro\n",
    "\n",
    "The present Notebook contains a demo of the developmento done so far of the repo [TwHashtagsVis](https://github.com/RodolfoFerro/TwHashtagsVis), which can be found here: https://github.com/RodolfoFerro/TwHashtagsVis\n",
    "\n",
    "For this repo, a set of classes were implemented:\n",
    "\n",
    "1. A `TweetsExtractor` object which sets up the Tweepy API conection to extract info.\n",
    "2. A `TweetsAnalyzer` object which analyzes data gathered from the extractor object.\n",
    "3. A `TweetsVisualizer` object just to visualize the analyzer data.\n",
    "\n",
    "From now, a Twitter App is needed in order to extract data.\n",
    "\n",
    "\n",
    "### Creating a Twitter App\n",
    "\n",
    "In order to extract tweets for a posterior analysis, we need to access to our Twitter account and create an app. The website to do this is [https://apps.twitter.com/](https://apps.twitter.com/). (If you don't know how to do this, you can follow this [quick tutorial video](https://www.youtube.com/watch?v=6wAHcHGgpFU) to create an account and an application.)\n",
    "\n",
    "From this app that we're creating we will save the following information the [`credentials.py`](https://github.com/RodolfoFerro/TwHashtagsVis/blob/master/scripts/credentials.py) script:\n",
    "* **Consumer Key (API Key)**\n",
    "* **Consumer Secret (API Secret)**\n",
    "* **Access Token**\n",
    "* **Access Token Secret**\n",
    "\n",
    "The content of this script is the following:\n",
    "```python\n",
    "# ===============================================================\n",
    "# Author: Rodolfo Ferro Pérez\n",
    "# Email: ferro@cimat.mx\n",
    "# Twitter: @FerroRodolfo\n",
    "#\n",
    "# Script: Access keys for Twitter App.\n",
    "#\n",
    "# ABOUT COPYING OR USING PARTIAL INFORMATION:\n",
    "# This script was originally created by Rodolfo Ferro. Any\n",
    "# explicit usage of this script or its contents is granted\n",
    "# according to the license provided and its conditions.\n",
    "# ===============================================================\n",
    "\n",
    "# Consumer:\n",
    "CONSUMER_KEY = ''\n",
    "CONSUMER_SECRET = ''\n",
    "\n",
    "# Access:\n",
    "ACCESS_TOKEN = ''\n",
    "ACCESS_SECRET = ''\n",
    "\n",
    "```"
   ]
  },
  {
   "cell_type": "code",
   "execution_count": 34,
   "metadata": {
    "ExecuteTime": {
     "end_time": "2017-12-28T02:39:31.144067Z",
     "start_time": "2017-12-28T02:39:31.089971Z"
    }
   },
   "outputs": [
    {
     "name": "stdout",
     "output_type": "stream",
     "text": [
      "The autoreload extension is already loaded. To reload it, use:\n",
      "  %reload_ext autoreload\n"
     ]
    }
   ],
   "source": [
    "%matplotlib inline\n",
    "%load_ext autoreload\n",
    "%autoreload 2"
   ]
  },
  {
   "cell_type": "markdown",
   "metadata": {},
   "source": [
    "## The `TweetsExtractor` object\n",
    "\n",
    "We just need to create a `TweetsExtractor` object, which will set up the Twitter API. The we just need to call the `extract(user)` method to gather data from the specified Twitter user. \n",
    "\n",
    "The following is a usage example of the `TweetsExtractor` object. "
   ]
  },
  {
   "cell_type": "code",
   "execution_count": 99,
   "metadata": {
    "ExecuteTime": {
     "end_time": "2017-12-28T05:21:32.190430Z",
     "start_time": "2017-12-28T05:21:27.212845Z"
    }
   },
   "outputs": [
    {
     "name": "stdout",
     "output_type": "stream",
     "text": [
      "Number of tweets extracted: 200.\n",
      "\n"
     ]
    },
    {
     "data": {
      "text/html": [
       "<div>\n",
       "<style>\n",
       "    .dataframe thead tr:only-child th {\n",
       "        text-align: right;\n",
       "    }\n",
       "\n",
       "    .dataframe thead th {\n",
       "        text-align: left;\n",
       "    }\n",
       "\n",
       "    .dataframe tbody tr th {\n",
       "        vertical-align: top;\n",
       "    }\n",
       "</style>\n",
       "<table border=\"1\" class=\"dataframe\">\n",
       "  <thead>\n",
       "    <tr style=\"text-align: right;\">\n",
       "      <th></th>\n",
       "      <th>Tweets</th>\n",
       "      <th>len</th>\n",
       "      <th>ID</th>\n",
       "      <th>Date</th>\n",
       "      <th>Source</th>\n",
       "      <th>Likes</th>\n",
       "      <th>RTs</th>\n",
       "      <th>Entities</th>\n",
       "    </tr>\n",
       "  </thead>\n",
       "  <tbody>\n",
       "    <tr>\n",
       "      <th>0</th>\n",
       "      <td>PyBites Code Challenges | Bite 4. Top 10 PyBit...</td>\n",
       "      <td>77</td>\n",
       "      <td>946162010487652352</td>\n",
       "      <td>2017-12-27 23:32:56</td>\n",
       "      <td>Twitter Web Client</td>\n",
       "      <td>1</td>\n",
       "      <td>0</td>\n",
       "      <td>{'hashtags': [], 'symbols': [], 'user_mentions...</td>\n",
       "    </tr>\n",
       "    <tr>\n",
       "      <th>1</th>\n",
       "      <td>PyBites Code Challenges | 45 - TDD: Code FizzB...</td>\n",
       "      <td>94</td>\n",
       "      <td>946158190365986821</td>\n",
       "      <td>2017-12-27 23:17:46</td>\n",
       "      <td>Twitter Web Client</td>\n",
       "      <td>2</td>\n",
       "      <td>1</td>\n",
       "      <td>{'hashtags': [], 'symbols': [], 'user_mentions...</td>\n",
       "    </tr>\n",
       "    <tr>\n",
       "      <th>2</th>\n",
       "      <td>RT @octonion: They are! I highly recommend peo...</td>\n",
       "      <td>140</td>\n",
       "      <td>945752708358856706</td>\n",
       "      <td>2017-12-26 20:26:31</td>\n",
       "      <td>Twitter Lite</td>\n",
       "      <td>0</td>\n",
       "      <td>11</td>\n",
       "      <td>{'hashtags': [], 'symbols': [], 'user_mentions...</td>\n",
       "    </tr>\n",
       "    <tr>\n",
       "      <th>3</th>\n",
       "      <td>RT @sandiegopython: @treyhunner's presentation...</td>\n",
       "      <td>140</td>\n",
       "      <td>945752194476896258</td>\n",
       "      <td>2017-12-26 20:24:29</td>\n",
       "      <td>Twitter Lite</td>\n",
       "      <td>0</td>\n",
       "      <td>3</td>\n",
       "      <td>{'hashtags': [], 'symbols': [], 'user_mentions...</td>\n",
       "    </tr>\n",
       "    <tr>\n",
       "      <th>4</th>\n",
       "      <td>RT @pythonbytes: Happy holidays everyone. Here...</td>\n",
       "      <td>140</td>\n",
       "      <td>945751838330105857</td>\n",
       "      <td>2017-12-26 20:23:04</td>\n",
       "      <td>Twitter Lite</td>\n",
       "      <td>0</td>\n",
       "      <td>13</td>\n",
       "      <td>{'hashtags': [], 'symbols': [], 'user_mentions...</td>\n",
       "    </tr>\n",
       "  </tbody>\n",
       "</table>\n",
       "</div>"
      ],
      "text/plain": [
       "                                              Tweets  len                  ID  \\\n",
       "0  PyBites Code Challenges | Bite 4. Top 10 PyBit...   77  946162010487652352   \n",
       "1  PyBites Code Challenges | 45 - TDD: Code FizzB...   94  946158190365986821   \n",
       "2  RT @octonion: They are! I highly recommend peo...  140  945752708358856706   \n",
       "3  RT @sandiegopython: @treyhunner's presentation...  140  945752194476896258   \n",
       "4  RT @pythonbytes: Happy holidays everyone. Here...  140  945751838330105857   \n",
       "\n",
       "                 Date              Source  Likes  RTs  \\\n",
       "0 2017-12-27 23:32:56  Twitter Web Client      1    0   \n",
       "1 2017-12-27 23:17:46  Twitter Web Client      2    1   \n",
       "2 2017-12-26 20:26:31        Twitter Lite      0   11   \n",
       "3 2017-12-26 20:24:29        Twitter Lite      0    3   \n",
       "4 2017-12-26 20:23:04        Twitter Lite      0   13   \n",
       "\n",
       "                                            Entities  \n",
       "0  {'hashtags': [], 'symbols': [], 'user_mentions...  \n",
       "1  {'hashtags': [], 'symbols': [], 'user_mentions...  \n",
       "2  {'hashtags': [], 'symbols': [], 'user_mentions...  \n",
       "3  {'hashtags': [], 'symbols': [], 'user_mentions...  \n",
       "4  {'hashtags': [], 'symbols': [], 'user_mentions...  "
      ]
     },
     "execution_count": 99,
     "metadata": {},
     "output_type": "execute_result"
    }
   ],
   "source": [
    "from extractor import TweetsExtractor\n",
    "\n",
    "extractor = TweetsExtractor()\n",
    "data = extractor.extract(\"pybites\")\n",
    "data.head()"
   ]
  },
  {
   "cell_type": "markdown",
   "metadata": {},
   "source": [
    "## The `TweetsAnalyzer` object\n",
    "\n",
    "We just need to create a `TweetsAnalyzer` object and pass it an extractor, this will set up an empty analyzer ready for extraction and analysis. The `analyze(user)` method extracts data and fills the analyzer object with data and hashtags.\n",
    "\n",
    "The following is a usage example of the `TweetsAnalyzer` object. "
   ]
  },
  {
   "cell_type": "code",
   "execution_count": 101,
   "metadata": {
    "ExecuteTime": {
     "end_time": "2017-12-28T05:25:28.194237Z",
     "start_time": "2017-12-28T05:25:19.435853Z"
    }
   },
   "outputs": [
    {
     "name": "stdout",
     "output_type": "stream",
     "text": [
      "Number of tweets extracted: 200.\n",
      "\n"
     ]
    }
   ],
   "source": [
    "from extractor import TweetsExtractor\n",
    "from analyzer import TweetsAnalyzer\n",
    "\n",
    "\n",
    "extractor = TweetsExtractor()\n",
    "analyzer = TweetsAnalyzer(extractor)\n",
    "analyzer.analyze(\"pybites\")"
   ]
  },
  {
   "cell_type": "markdown",
   "metadata": {},
   "source": [
    "The `hashtags` attribute returns an `OrderedDict` with all hashtags."
   ]
  },
  {
   "cell_type": "code",
   "execution_count": 106,
   "metadata": {
    "ExecuteTime": {
     "end_time": "2017-12-28T05:26:44.365647Z",
     "start_time": "2017-12-28T05:26:44.328058Z"
    }
   },
   "outputs": [
    {
     "data": {
      "text/plain": [
       "{'100DaysOfCode': 2,\n",
       " 'APIs': 1,\n",
       " 'CI': 1,\n",
       " 'Chatbots': 1,\n",
       " 'CodeChallenge': 2,\n",
       " 'CodeChallenges': 3,\n",
       " 'Data': 1,\n",
       " 'DeepLearning': 2,\n",
       " 'DisAtBot': 1,\n",
       " 'Django': 2,\n",
       " 'Docker': 4,\n",
       " 'Excel': 1,\n",
       " 'FizzBuzz': 1,\n",
       " 'Flask': 4,\n",
       " 'Git': 1,\n",
       " 'GuestPost': 1,\n",
       " 'Heroku': 1,\n",
       " 'JavaScript': 2,\n",
       " 'Jenkins': 1,\n",
       " 'Jupyter': 1,\n",
       " 'Keras': 2,\n",
       " 'Microservices': 1,\n",
       " 'PCC43': 1,\n",
       " 'Pandas': 2,\n",
       " 'PostgreSQL': 1,\n",
       " 'Programming': 1,\n",
       " 'PyDay': 1,\n",
       " 'Python': 32,\n",
       " 'Python3': 1,\n",
       " 'PythonAlicante': 1,\n",
       " 'PythonPowered': 1,\n",
       " 'ReactJS': 1,\n",
       " 'Regex': 1,\n",
       " 'Scraping': 1,\n",
       " 'Seaborn': 1,\n",
       " 'TDD': 1,\n",
       " 'Telegram': 1,\n",
       " 'TopHits2017': 1,\n",
       " 'Twilio': 1,\n",
       " 'better': 1,\n",
       " 'blockchain': 1,\n",
       " 'captcha': 1,\n",
       " 'chatbot': 1,\n",
       " 'codechallenges': 1,\n",
       " 'coding': 1,\n",
       " 'data': 1,\n",
       " 'developer': 1,\n",
       " 'django': 2,\n",
       " 'docker': 1,\n",
       " 'education': 1,\n",
       " 'excel': 2,\n",
       " 'itertools': 1,\n",
       " 'languages': 1,\n",
       " 'machinelearning': 1,\n",
       " 'milestone': 1,\n",
       " 'netneutrality': 1,\n",
       " 'news': 1,\n",
       " 'pandas': 2,\n",
       " 'performance': 1,\n",
       " 'pyautogui': 1,\n",
       " 'pycon': 1,\n",
       " 'pyconau': 1,\n",
       " 'python': 20,\n",
       " 'python3': 1,\n",
       " 'reactjs': 1,\n",
       " 'scrapy': 1,\n",
       " 'skills': 1,\n",
       " 'tdd': 1,\n",
       " 'testing': 2,\n",
       " 'ubuntu': 1,\n",
       " 'webdev': 2}"
      ]
     },
     "execution_count": 106,
     "metadata": {},
     "output_type": "execute_result"
    }
   ],
   "source": [
    "# We use dict() to convert it to a normal dict:\n",
    "dict(analyzer.hashtags)"
   ]
  },
  {
   "cell_type": "markdown",
   "metadata": {},
   "source": [
    "The `trending_tweets()` method returns a pair of indices containing the most liked tweet and most retweeted tweet."
   ]
  },
  {
   "cell_type": "code",
   "execution_count": 96,
   "metadata": {
    "ExecuteTime": {
     "end_time": "2017-12-28T05:02:24.421325Z",
     "start_time": "2017-12-28T05:02:24.343221Z"
    }
   },
   "outputs": [
    {
     "name": "stdout",
     "output_type": "stream",
     "text": [
      "The tweet with more likes is: \n",
      "&gt;&gt;&gt; import this \n",
      "... \n",
      "Now is better than never.\n",
      "...\n",
      "\n",
      "Start coding in #Python  \n",
      "\n",
      "PyBites Code Challenge Platform is live! \n",
      "\n",
      "Check it out at: https://t.co/moP1FUPFB5 https://t.co/5vDPF71j7v\n",
      "Number of likes: 162\n",
      "196 characters.\n",
      "\n",
      "The tweet with more retweets is: \n",
      "RT @oliviacpu: If you're a new programmer I just want you to know\n",
      "\n",
      "me and all of my colleagues with years of experience\n",
      "\n",
      "Google the most ba…\n",
      "Number of retweets: 12849\n",
      "140 characters.\n",
      "\n"
     ]
    }
   ],
   "source": [
    "fav, rt = analyzer.trending_tweets()\n",
    "\n",
    "fav_tw = analyzer.data['Tweets'][fav]\n",
    "rt_tw = analyzer.data['Tweets'][rt]\n",
    "\n",
    "# Max FAVs:\n",
    "print(\"The tweet with more likes is: \\n{}\".format(fav_tw))\n",
    "print(\"Number of likes: {}\".format(analyzer.data['Likes'][fav]))\n",
    "print(\"{} characters.\\n\".format(analyzer.data['len'][fav]))\n",
    "\n",
    "# Max RTs:\n",
    "print(\"The tweet with more retweets is: \\n{}\".format(rt_tw))\n",
    "print(\"Number of retweets: {}\".format(analyzer.data['RTs'][rt]))\n",
    "print(\"{} characters.\\n\".format(analyzer.data['len'][rt]))"
   ]
  },
  {
   "cell_type": "markdown",
   "metadata": {},
   "source": [
    "The `top_hashtags()` method returns a list with the `top` hashtags."
   ]
  },
  {
   "cell_type": "code",
   "execution_count": 98,
   "metadata": {
    "ExecuteTime": {
     "end_time": "2017-12-28T05:03:56.424968Z",
     "start_time": "2017-12-28T05:03:56.353668Z"
    }
   },
   "outputs": [
    {
     "name": "stdout",
     "output_type": "stream",
     "text": [
      "1. Python: 32\n",
      "2. python: 20\n",
      "3. Flask: 4\n",
      "4. Docker: 4\n",
      "5. CodeChallenges: 3\n",
      "6. django: 2\n",
      "7. Django: 2\n",
      "8. DeepLearning: 2\n",
      "9. Keras: 2\n",
      "10. CodeChallenge: 2\n"
     ]
    }
   ],
   "source": [
    "top = analyzer.top_hashtags(top=10)\n",
    "for i, hashtag in enumerate(top):\n",
    "    print(\"{}. {}: {}\".format(i+1, hashtag[0], hashtag[1]))"
   ]
  },
  {
   "cell_type": "code",
   "execution_count": null,
   "metadata": {
    "collapsed": true
   },
   "outputs": [],
   "source": []
  }
 ],
 "metadata": {
  "anaconda-cloud": {},
  "kernelspec": {
   "display_name": "Python [conda root]",
   "language": "python",
   "name": "conda-root-py"
  },
  "language_info": {
   "codemirror_mode": {
    "name": "ipython",
    "version": 3
   },
   "file_extension": ".py",
   "mimetype": "text/x-python",
   "name": "python",
   "nbconvert_exporter": "python",
   "pygments_lexer": "ipython3",
   "version": "3.6.1"
  },
  "toc": {
   "colors": {
    "hover_highlight": "#DAA520",
    "navigate_num": "#000000",
    "navigate_text": "#333333",
    "running_highlight": "#FF0000",
    "selected_highlight": "#FFD700",
    "sidebar_border": "#EEEEEE",
    "wrapper_background": "#FFFFFF"
   },
   "moveMenuLeft": true,
   "nav_menu": {
    "height": "102px",
    "width": "252px"
   },
   "navigate_menu": true,
   "number_sections": false,
   "sideBar": true,
   "threshold": 4,
   "toc_cell": true,
   "toc_section_display": "block",
   "toc_window_display": false,
   "widenNotebook": false
  }
 },
 "nbformat": 4,
 "nbformat_minor": 2
}
