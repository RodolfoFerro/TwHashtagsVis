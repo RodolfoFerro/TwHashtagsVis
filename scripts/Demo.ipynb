{
 "cells": [
  {
   "cell_type": "code",
   "execution_count": 34,
   "metadata": {
    "ExecuteTime": {
     "end_time": "2017-12-28T02:39:31.144067Z",
     "start_time": "2017-12-28T02:39:31.089971Z"
    }
   },
   "outputs": [
    {
     "name": "stdout",
     "output_type": "stream",
     "text": [
      "The autoreload extension is already loaded. To reload it, use:\n",
      "  %reload_ext autoreload\n"
     ]
    }
   ],
   "source": [
    "%matplotlib inline\n",
    "%load_ext autoreload\n",
    "%autoreload 2"
   ]
  },
  {
   "cell_type": "code",
   "execution_count": 70,
   "metadata": {
    "ExecuteTime": {
     "end_time": "2017-12-28T03:30:00.956984Z",
     "start_time": "2017-12-28T03:29:56.179279Z"
    }
   },
   "outputs": [
    {
     "name": "stdout",
     "output_type": "stream",
     "text": [
      "Number of tweets extracted: 200.\n",
      "\n"
     ]
    }
   ],
   "source": [
    "from extractor import TweetsExtractor\n",
    "from analyzer import TweetsAnalyzer\n",
    "\n",
    "\n",
    "extractor = TweetsExtractor()\n",
    "analyzer = TweetsAnalyzer(extractor)\n",
    "analyzer.analyze(\"pybites\")"
   ]
  },
  {
   "cell_type": "code",
   "execution_count": 71,
   "metadata": {
    "ExecuteTime": {
     "end_time": "2017-12-28T03:30:04.898965Z",
     "start_time": "2017-12-28T03:30:04.829955Z"
    }
   },
   "outputs": [
    {
     "data": {
      "text/plain": [
       "{'100DaysOfCode': 2,\n",
       " 'APIs': 1,\n",
       " 'CI': 1,\n",
       " 'Chatbots': 1,\n",
       " 'CodeChallenge': 2,\n",
       " 'CodeChallenges': 3,\n",
       " 'Data': 1,\n",
       " 'DeepLearning': 2,\n",
       " 'DisAtBot': 1,\n",
       " 'Django': 2,\n",
       " 'Docker': 4,\n",
       " 'Excel': 1,\n",
       " 'FizzBuzz': 1,\n",
       " 'Flask': 4,\n",
       " 'Git': 1,\n",
       " 'GuestPost': 1,\n",
       " 'Heroku': 1,\n",
       " 'JavaScript': 2,\n",
       " 'Jenkins': 1,\n",
       " 'Jupyter': 1,\n",
       " 'Keras': 2,\n",
       " 'Microservices': 1,\n",
       " 'PCC43': 1,\n",
       " 'Pandas': 2,\n",
       " 'PostgreSQL': 1,\n",
       " 'Programming': 1,\n",
       " 'PyDay': 1,\n",
       " 'Python': 32,\n",
       " 'Python3': 1,\n",
       " 'PythonAlicante': 1,\n",
       " 'PythonPowered': 1,\n",
       " 'ReactJS': 1,\n",
       " 'Regex': 1,\n",
       " 'Scraping': 1,\n",
       " 'Seaborn': 1,\n",
       " 'TDD': 1,\n",
       " 'Telegram': 1,\n",
       " 'TopHits2017': 1,\n",
       " 'Twilio': 1,\n",
       " 'better': 1,\n",
       " 'blockchain': 1,\n",
       " 'captcha': 1,\n",
       " 'chatbot': 1,\n",
       " 'codechallenges': 1,\n",
       " 'coding': 1,\n",
       " 'data': 1,\n",
       " 'developer': 1,\n",
       " 'django': 2,\n",
       " 'docker': 1,\n",
       " 'education': 1,\n",
       " 'excel': 2,\n",
       " 'itertools': 1,\n",
       " 'languages': 1,\n",
       " 'machinelearning': 1,\n",
       " 'milestone': 1,\n",
       " 'netneutrality': 1,\n",
       " 'news': 1,\n",
       " 'pandas': 2,\n",
       " 'performance': 1,\n",
       " 'pyautogui': 1,\n",
       " 'pycon': 1,\n",
       " 'pyconau': 1,\n",
       " 'python': 20,\n",
       " 'python3': 1,\n",
       " 'reactjs': 1,\n",
       " 'scrapy': 1,\n",
       " 'skills': 1,\n",
       " 'tdd': 1,\n",
       " 'testing': 2,\n",
       " 'ubuntu': 1,\n",
       " 'webdev': 2}"
      ]
     },
     "execution_count": 71,
     "metadata": {},
     "output_type": "execute_result"
    }
   ],
   "source": [
    "analyzer.hashtags"
   ]
  },
  {
   "cell_type": "code",
   "execution_count": 72,
   "metadata": {
    "ExecuteTime": {
     "end_time": "2017-12-28T03:30:10.696568Z",
     "start_time": "2017-12-28T03:30:10.622573Z"
    }
   },
   "outputs": [
    {
     "name": "stdout",
     "output_type": "stream",
     "text": [
      "The tweet with more likes is: \n",
      "&gt;&gt;&gt; import this \n",
      "... \n",
      "Now is better than never.\n",
      "...\n",
      "\n",
      "Start coding in #Python  \n",
      "\n",
      "PyBites Code Challenge Platform is live! \n",
      "\n",
      "Check it out at: https://t.co/moP1FUPFB5 https://t.co/5vDPF71j7v\n",
      "Number of likes: 162\n",
      "196 characters.\n",
      "\n",
      "The tweet with more retweets is: \n",
      "RT @oliviacpu: If you're a new programmer I just want you to know\n",
      "\n",
      "me and all of my colleagues with years of experience\n",
      "\n",
      "Google the most ba…\n",
      "Number of retweets: 12849\n",
      "140 characters.\n",
      "\n"
     ]
    },
    {
     "data": {
      "text/plain": [
       "(44, 105)"
      ]
     },
     "execution_count": 72,
     "metadata": {},
     "output_type": "execute_result"
    }
   ],
   "source": [
    "analyzer.trending_tweets()"
   ]
  },
  {
   "cell_type": "code",
   "execution_count": 85,
   "metadata": {
    "ExecuteTime": {
     "end_time": "2017-12-28T04:24:57.335718Z",
     "start_time": "2017-12-28T04:24:57.281505Z"
    }
   },
   "outputs": [
    {
     "data": {
      "text/plain": [
       "[('Python', 32), ('python', 20), ('Flask', 4)]"
      ]
     },
     "execution_count": 85,
     "metadata": {},
     "output_type": "execute_result"
    }
   ],
   "source": [
    "top = analyzer.top_hashtags(top=3)\n",
    "f"
   ]
  },
  {
   "cell_type": "code",
   "execution_count": null,
   "metadata": {
    "collapsed": true
   },
   "outputs": [],
   "source": []
  }
 ],
 "metadata": {
  "anaconda-cloud": {},
  "kernelspec": {
   "display_name": "Python [conda root]",
   "language": "python",
   "name": "conda-root-py"
  },
  "language_info": {
   "codemirror_mode": {
    "name": "ipython",
    "version": 3
   },
   "file_extension": ".py",
   "mimetype": "text/x-python",
   "name": "python",
   "nbconvert_exporter": "python",
   "pygments_lexer": "ipython3",
   "version": "3.6.1"
  },
  "toc": {
   "colors": {
    "hover_highlight": "#DAA520",
    "navigate_num": "#000000",
    "navigate_text": "#333333",
    "running_highlight": "#FF0000",
    "selected_highlight": "#FFD700",
    "sidebar_border": "#EEEEEE",
    "wrapper_background": "#FFFFFF"
   },
   "moveMenuLeft": true,
   "nav_menu": {
    "height": "12px",
    "width": "252px"
   },
   "navigate_menu": true,
   "number_sections": true,
   "sideBar": true,
   "threshold": 4,
   "toc_cell": false,
   "toc_section_display": "block",
   "toc_window_display": false,
   "widenNotebook": false
  }
 },
 "nbformat": 4,
 "nbformat_minor": 2
}
