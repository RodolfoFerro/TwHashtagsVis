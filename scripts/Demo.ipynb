{
 "cells": [
  {
   "cell_type": "code",
   "execution_count": 34,
   "metadata": {
    "ExecuteTime": {
     "end_time": "2017-12-28T02:39:31.144067Z",
     "start_time": "2017-12-28T02:39:31.089971Z"
    }
   },
   "outputs": [
    {
     "name": "stdout",
     "output_type": "stream",
     "text": [
      "The autoreload extension is already loaded. To reload it, use:\n",
      "  %reload_ext autoreload\n"
     ]
    }
   ],
   "source": [
    "%matplotlib inline\n",
    "%load_ext autoreload\n",
    "%autoreload 2"
   ]
  },
  {
   "cell_type": "code",
   "execution_count": 26,
   "metadata": {
    "ExecuteTime": {
     "end_time": "2017-12-28T02:35:07.084274Z",
     "start_time": "2017-12-28T02:35:04.653489Z"
    }
   },
   "outputs": [
    {
     "name": "stdout",
     "output_type": "stream",
     "text": [
      "Number of tweets extracted: 200.\n",
      "\n"
     ]
    },
    {
     "data": {
      "text/html": [
       "<div>\n",
       "<style>\n",
       "    .dataframe thead tr:only-child th {\n",
       "        text-align: right;\n",
       "    }\n",
       "\n",
       "    .dataframe thead th {\n",
       "        text-align: left;\n",
       "    }\n",
       "\n",
       "    .dataframe tbody tr th {\n",
       "        vertical-align: top;\n",
       "    }\n",
       "</style>\n",
       "<table border=\"1\" class=\"dataframe\">\n",
       "  <thead>\n",
       "    <tr style=\"text-align: right;\">\n",
       "      <th></th>\n",
       "      <th>Tweets</th>\n",
       "      <th>len</th>\n",
       "      <th>ID</th>\n",
       "      <th>Date</th>\n",
       "      <th>Source</th>\n",
       "      <th>Likes</th>\n",
       "      <th>RTs</th>\n",
       "      <th>Entities</th>\n",
       "    </tr>\n",
       "  </thead>\n",
       "  <tbody>\n",
       "    <tr>\n",
       "      <th>0</th>\n",
       "      <td>PyBites Code Challenges | Bite 4. Top 10 PyBit...</td>\n",
       "      <td>77</td>\n",
       "      <td>946162010487652352</td>\n",
       "      <td>2017-12-27 23:32:56</td>\n",
       "      <td>Twitter Web Client</td>\n",
       "      <td>1</td>\n",
       "      <td>0</td>\n",
       "      <td>{'hashtags': [], 'symbols': [], 'user_mentions...</td>\n",
       "    </tr>\n",
       "    <tr>\n",
       "      <th>1</th>\n",
       "      <td>PyBites Code Challenges | 45 - TDD: Code FizzB...</td>\n",
       "      <td>94</td>\n",
       "      <td>946158190365986821</td>\n",
       "      <td>2017-12-27 23:17:46</td>\n",
       "      <td>Twitter Web Client</td>\n",
       "      <td>1</td>\n",
       "      <td>1</td>\n",
       "      <td>{'hashtags': [], 'symbols': [], 'user_mentions...</td>\n",
       "    </tr>\n",
       "    <tr>\n",
       "      <th>2</th>\n",
       "      <td>RT @octonion: They are! I highly recommend peo...</td>\n",
       "      <td>140</td>\n",
       "      <td>945752708358856706</td>\n",
       "      <td>2017-12-26 20:26:31</td>\n",
       "      <td>Twitter Lite</td>\n",
       "      <td>0</td>\n",
       "      <td>11</td>\n",
       "      <td>{'hashtags': [], 'symbols': [], 'user_mentions...</td>\n",
       "    </tr>\n",
       "    <tr>\n",
       "      <th>3</th>\n",
       "      <td>RT @sandiegopython: @treyhunner's presentation...</td>\n",
       "      <td>140</td>\n",
       "      <td>945752194476896258</td>\n",
       "      <td>2017-12-26 20:24:29</td>\n",
       "      <td>Twitter Lite</td>\n",
       "      <td>0</td>\n",
       "      <td>3</td>\n",
       "      <td>{'hashtags': [], 'symbols': [], 'user_mentions...</td>\n",
       "    </tr>\n",
       "    <tr>\n",
       "      <th>4</th>\n",
       "      <td>RT @pythonbytes: Happy holidays everyone. Here...</td>\n",
       "      <td>140</td>\n",
       "      <td>945751838330105857</td>\n",
       "      <td>2017-12-26 20:23:04</td>\n",
       "      <td>Twitter Lite</td>\n",
       "      <td>0</td>\n",
       "      <td>13</td>\n",
       "      <td>{'hashtags': [], 'symbols': [], 'user_mentions...</td>\n",
       "    </tr>\n",
       "  </tbody>\n",
       "</table>\n",
       "</div>"
      ],
      "text/plain": [
       "                                              Tweets  len                  ID  \\\n",
       "0  PyBites Code Challenges | Bite 4. Top 10 PyBit...   77  946162010487652352   \n",
       "1  PyBites Code Challenges | 45 - TDD: Code FizzB...   94  946158190365986821   \n",
       "2  RT @octonion: They are! I highly recommend peo...  140  945752708358856706   \n",
       "3  RT @sandiegopython: @treyhunner's presentation...  140  945752194476896258   \n",
       "4  RT @pythonbytes: Happy holidays everyone. Here...  140  945751838330105857   \n",
       "\n",
       "                 Date              Source  Likes  RTs  \\\n",
       "0 2017-12-27 23:32:56  Twitter Web Client      1    0   \n",
       "1 2017-12-27 23:17:46  Twitter Web Client      1    1   \n",
       "2 2017-12-26 20:26:31        Twitter Lite      0   11   \n",
       "3 2017-12-26 20:24:29        Twitter Lite      0    3   \n",
       "4 2017-12-26 20:23:04        Twitter Lite      0   13   \n",
       "\n",
       "                                            Entities  \n",
       "0  {'hashtags': [], 'symbols': [], 'user_mentions...  \n",
       "1  {'hashtags': [], 'symbols': [], 'user_mentions...  \n",
       "2  {'hashtags': [], 'symbols': [], 'user_mentions...  \n",
       "3  {'hashtags': [], 'symbols': [], 'user_mentions...  \n",
       "4  {'hashtags': [], 'symbols': [], 'user_mentions...  "
      ]
     },
     "execution_count": 26,
     "metadata": {},
     "output_type": "execute_result"
    }
   ],
   "source": [
    "from extractor import TweetsExtractor\n",
    "\n",
    "\n",
    "extractor = TweetsExtractor()\n",
    "data = extractor.extract(\"pybites\")\n",
    "data.head()"
   ]
  },
  {
   "cell_type": "code",
   "execution_count": 33,
   "metadata": {
    "ExecuteTime": {
     "end_time": "2017-12-28T02:37:16.435654Z",
     "start_time": "2017-12-28T02:37:16.318538Z"
    }
   },
   "outputs": [
    {
     "data": {
      "text/plain": [
       "{'hashtags': [{'indices': [80, 87], 'text': 'Python'},\n",
       "  {'indices': [88, 103], 'text': 'CodeChallenges'},\n",
       "  {'indices': [104, 118], 'text': 'Microservices'},\n",
       "  {'indices': [119, 125], 'text': 'Excel'},\n",
       "  {'indices': [126, 133], 'text': 'Django'},\n",
       "  {'indices': [134, 138], 'text': 'Git'},\n",
       "  {'indices': [139, 145], 'text': 'Flask'},\n",
       "  {'indices': [146, 152], 'text': 'pycon'},\n",
       "  {'indices': [153, 161], 'text': 'pyconau'},\n",
       "  {'indices': [162, 172], 'text': 'pyautogui'},\n",
       "  {'indices': [173, 186], 'text': 'DeepLearning'},\n",
       "  {'indices': [187, 193], 'text': 'Keras'}],\n",
       " 'symbols': [],\n",
       " 'urls': [{'display_url': 'pybit.es/twitter_digest…',\n",
       "   'expanded_url': 'https://pybit.es/twitter_digest_201751.html#.Wj-GmqARANw.twitter',\n",
       "   'indices': [55, 78],\n",
       "   'url': 'https://t.co/HMSvS6pU6X'}],\n",
       " 'user_mentions': []}"
      ]
     },
     "execution_count": 33,
     "metadata": {},
     "output_type": "execute_result"
    }
   ],
   "source": [
    "data['Entities'][20]"
   ]
  },
  {
   "cell_type": "code",
   "execution_count": null,
   "metadata": {
    "collapsed": true
   },
   "outputs": [],
   "source": []
  }
 ],
 "metadata": {
  "anaconda-cloud": {},
  "kernelspec": {
   "display_name": "Python [conda root]",
   "language": "python",
   "name": "conda-root-py"
  },
  "language_info": {
   "codemirror_mode": {
    "name": "ipython",
    "version": 3
   },
   "file_extension": ".py",
   "mimetype": "text/x-python",
   "name": "python",
   "nbconvert_exporter": "python",
   "pygments_lexer": "ipython3",
   "version": "3.6.1"
  },
  "toc": {
   "colors": {
    "hover_highlight": "#DAA520",
    "navigate_num": "#000000",
    "navigate_text": "#333333",
    "running_highlight": "#FF0000",
    "selected_highlight": "#FFD700",
    "sidebar_border": "#EEEEEE",
    "wrapper_background": "#FFFFFF"
   },
   "moveMenuLeft": true,
   "nav_menu": {
    "height": "12px",
    "width": "252px"
   },
   "navigate_menu": true,
   "number_sections": true,
   "sideBar": true,
   "threshold": 4,
   "toc_cell": false,
   "toc_section_display": "block",
   "toc_window_display": false,
   "widenNotebook": false
  }
 },
 "nbformat": 4,
 "nbformat_minor": 2
}
